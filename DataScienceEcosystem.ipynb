{
 "cells": [
  {
   "cell_type": "markdown",
   "id": "fdb35cb4",
   "metadata": {},
   "source": [
    "## This is an assignment form Tools for Data Science - IBM Data Science Professional Certificate."
   ]
  },
  {
   "cell_type": "markdown",
   "id": "6aea995b",
   "metadata": {},
   "source": [
    "#### Exercise 1: Create a Jupyter Notebook\n",
    "\n",
    "Create a new Jupyter notebook called DataScienceEcosystem.ipynb"
   ]
  },
  {
   "cell_type": "markdown",
   "id": "dfdc8a1e",
   "metadata": {},
   "source": [
    "#### Exercise 2: Create markdown cell with title of the notebook"
   ]
  },
  {
   "cell_type": "markdown",
   "id": "ba1daa9c",
   "metadata": {},
   "source": [
    "# Data Science Tools and Ecosystem"
   ]
  },
  {
   "cell_type": "markdown",
   "id": "0dac85a2",
   "metadata": {},
   "source": [
    "#### Exercise 3 - Create a markdown cell for an introduction"
   ]
  },
  {
   "cell_type": "markdown",
   "id": "156a9827",
   "metadata": {},
   "source": [
    "In this notebook, Data Science Tools and Ecosystem are summarized."
   ]
  },
  {
   "cell_type": "markdown",
   "id": "8ad9e1aa",
   "metadata": {},
   "source": [
    "### Objectives:\n",
    "\n",
    "Create Table. <br>\n",
    "Use diffrenet kind of Headings. <br>\n",
    "Create Lists like data science languages, tools , laibraries. <br>\n",
    "Use Arithmetic Expression. <br>\n",
    "Comment on Data Science tools."
   ]
  },
  {
   "cell_type": "markdown",
   "id": "cdd04efe",
   "metadata": {},
   "source": [
    "#### Exercise 4 - Create a markdown cell to list data science languages"
   ]
  },
  {
   "cell_type": "markdown",
   "id": "d348078d",
   "metadata": {},
   "source": [
    "Some of the popular languages that Data Scientists use are:\n",
    "    \n",
    "  1.Python <br>\n",
    "  2.R  <br>\n",
    "  3.C/C++  <br>\n",
    "  4.SQL  <br>\n",
    "  5.Java  <br>\n",
    "  6.Julia <br>\n",
    "  7.JavaScript <br>\n",
    "  8.MATLAB <br>\n",
    "  9.SAS <br>\n",
    "  10.Scala"
   ]
  },
  {
   "cell_type": "markdown",
   "id": "e2ebada6",
   "metadata": {},
   "source": [
    "#### Exercise 5 - Create a markdown cell to list data science libraries"
   ]
  },
  {
   "cell_type": "markdown",
   "id": "8d2f6a58",
   "metadata": {},
   "source": [
    "Some of the commonly used libraries used by data scientists include:\n",
    "\n",
    "1.TensorFlow <br>\n",
    "2.NumPy <br>\n",
    "3.Pandas <br>\n",
    "4.Scipy <br>\n",
    "5.PyTorch <br>\n",
    "6.Keras <br>\n",
    "7.Matplotlib <br>\n",
    "8.SciKit-Lear <br>\n",
    "9.ELI5 <br>\n",
    "10.NuPIC <br>\n",
    "11.Ramp <br>\n",
    "12.PyBrain <br>\n",
    "14.Pipenv <br>\n",
    "14.Bob <br>\n",
    "15.Caffe2"
   ]
  },
  {
   "cell_type": "markdown",
   "id": "24a8ef5c",
   "metadata": {},
   "source": [
    "#### Exercise 6 - Create a markdown cell with a table of Data Science tools"
   ]
  },
  {
   "cell_type": "markdown",
   "id": "a802d7fe",
   "metadata": {},
   "source": [
    "Data Science Tools:\n",
    "    \n",
    "|Data Science Tools|\n",
    "|---|\n",
    "|Apache Spark|\n",
    "|---|\n",
    "|TensorFlow|\n",
    "|---| \n",
    "|SAS|\n",
    "|---|\n",
    "|Tableau|"
   ]
  },
  {
   "cell_type": "markdown",
   "id": "6a291440",
   "metadata": {},
   "source": [
    "#### Exercise 7 - Create a markdown cell introducing arithmetic expression examples"
   ]
  },
  {
   "cell_type": "markdown",
   "id": "6305b484",
   "metadata": {},
   "source": [
    "### Below are a few examples of evaluating arithmetic expressions in Python"
   ]
  },
  {
   "cell_type": "code",
   "execution_count": 48,
   "id": "3288c703",
   "metadata": {},
   "outputs": [
    {
     "data": {
      "text/plain": [
       "9"
      ]
     },
     "execution_count": 48,
     "metadata": {},
     "output_type": "execute_result"
    }
   ],
   "source": [
    "# Arithmetic operations\n",
    "code = compile(\"5 + 4\", \"<string>\", \"eval\")  #compile() converts a string to a Python code object.\n",
    "eval(code)\n",
    "# Result: 9\n",
    "\n",
    "#Note:Eval function is mostly used in situations or applications which need to evaluate mathematical expressions."
   ]
  },
  {
   "cell_type": "code",
   "execution_count": 42,
   "id": "fdb1b5bb",
   "metadata": {},
   "outputs": [
    {
     "data": {
      "text/plain": [
       "24"
      ]
     },
     "execution_count": 42,
     "metadata": {},
     "output_type": "execute_result"
    }
   ],
   "source": [
    "code = compile(\"(5 + 7) * 2\", \"<string>\", \"eval\")\n",
    "eval(code)"
   ]
  },
  {
   "cell_type": "code",
   "execution_count": 46,
   "id": "27454847",
   "metadata": {},
   "outputs": [
    {
     "data": {
      "text/plain": [
       "65449.84694978735"
      ]
     },
     "execution_count": 46,
     "metadata": {},
     "output_type": "execute_result"
    }
   ],
   "source": [
    "import math\n",
    "# Volume of a sphere\n",
    "code2 = compile(\"4 / 3 * math.pi * math.pow(25, 3)\", \"<string>\", \"eval\")\n",
    "eval(code2)\n",
    "# Result: 65449.84694978735"
   ]
  },
  {
   "cell_type": "code",
   "execution_count": 51,
   "id": "f3b5d401",
   "metadata": {},
   "outputs": [
    {
     "data": {
      "text/plain": [
       "56"
      ]
     },
     "execution_count": 51,
     "metadata": {},
     "output_type": "execute_result"
    }
   ],
   "source": [
    "eval(\"sum([8, 16, 32])\")"
   ]
  },
  {
   "cell_type": "code",
   "execution_count": 52,
   "id": "0f23c20d",
   "metadata": {},
   "outputs": [
    {
     "data": {
      "text/plain": [
       "200"
      ]
     },
     "execution_count": 52,
     "metadata": {},
     "output_type": "execute_result"
    }
   ],
   "source": [
    "x = 100\n",
    "eval(\"x * 2\")"
   ]
  },
  {
   "cell_type": "markdown",
   "id": "fd24a00f",
   "metadata": {},
   "source": [
    "#### Exercise 8 - Create a code cell to multiply and add numbers"
   ]
  },
  {
   "cell_type": "markdown",
   "id": "63e78df8",
   "metadata": {},
   "source": [
    "This a simple arithmetic expression to mutiply then add integers"
   ]
  },
  {
   "cell_type": "code",
   "execution_count": 50,
   "id": "13c27ee9",
   "metadata": {},
   "outputs": [
    {
     "data": {
      "text/plain": [
       "17"
      ]
     },
     "execution_count": 50,
     "metadata": {},
     "output_type": "execute_result"
    }
   ],
   "source": [
    "(3*4)+5\n",
    "\n",
    "#result :17"
   ]
  },
  {
   "cell_type": "markdown",
   "id": "483ba956",
   "metadata": {},
   "source": [
    "#### Exercise 9 - Create a code cell to convert minutes to hours"
   ]
  },
  {
   "cell_type": "markdown",
   "id": "59e5ce47",
   "metadata": {},
   "source": [
    "This will convert 200 minutes to hours by diving by 60"
   ]
  },
  {
   "cell_type": "code",
   "execution_count": 54,
   "id": "56ac5c15",
   "metadata": {},
   "outputs": [
    {
     "name": "stdout",
     "output_type": "stream",
     "text": [
      "3.3333333333333335\n"
     ]
    }
   ],
   "source": [
    "minutes = 200\n",
    "hours = minutes/60\n",
    "print(hours)"
   ]
  },
  {
   "cell_type": "code",
   "execution_count": 59,
   "id": "f6b921f4",
   "metadata": {},
   "outputs": [
    {
     "data": {
      "text/plain": [
       "3.3333333333333335"
      ]
     },
     "execution_count": 59,
     "metadata": {},
     "output_type": "execute_result"
    }
   ],
   "source": [
    "code = compile(\"minutes/60\", \"<string>\", \"eval\")\n",
    "eval(code)"
   ]
  },
  {
   "cell_type": "markdown",
   "id": "5bb117b6",
   "metadata": {},
   "source": [
    "#### Exercise 10 - Insert a markdown cell to list Objectives"
   ]
  },
  {
   "cell_type": "markdown",
   "id": "1e32997f",
   "metadata": {},
   "source": [
    "Below the introduction cell created in Exercise 3, insert a new markdown cell to list the objectives that this notebook covered (i.e. some of the key takeaways from the course). In this new cell start with an introductory line titled: Objectives: in bold font. Then using an unordered list (bullets) indicate 3 to 5 items covered in this notebook, such as List popular languages for Data Science."
   ]
  },
  {
   "cell_type": "markdown",
   "id": "c915cf7a",
   "metadata": {},
   "source": [
    "#### Exercise 11 - Create a markdown cell to indicate the Author's name"
   ]
  },
  {
   "cell_type": "markdown",
   "id": "438b59ad",
   "metadata": {},
   "source": [
    "## Author:\n",
    "Sumaiya Tabassum"
   ]
  }
 ],
 "metadata": {
  "kernelspec": {
   "display_name": "Python 3 (ipykernel)",
   "language": "python",
   "name": "python3"
  },
  "language_info": {
   "codemirror_mode": {
    "name": "ipython",
    "version": 3
   },
   "file_extension": ".py",
   "mimetype": "text/x-python",
   "name": "python",
   "nbconvert_exporter": "python",
   "pygments_lexer": "ipython3",
   "version": "3.9.12"
  }
 },
 "nbformat": 4,
 "nbformat_minor": 5
}
